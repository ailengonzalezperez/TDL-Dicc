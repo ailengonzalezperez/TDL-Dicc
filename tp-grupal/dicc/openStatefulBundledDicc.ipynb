{
 "cells": [
  {
   "cell_type": "markdown",
   "metadata": {},
   "source": [
    ".* Julia OpenStatefulUnboundled Dictionary *."
   ]
  },
  {
   "cell_type": "code",
   "execution_count": 1,
   "metadata": {
    "collapsed": false
   },
   "outputs": [],
   "source": [
    "type JuliaTree\n",
    "    key::String\n",
    "    values::Array{Int}\n",
    "    left\n",
    "    right\n",
    "    \n",
    "    JuliaTree() = new(\"\",[],nothing,nothing)\n",
    "end\n",
    "type JuliaDict\n",
    "    tree::JuliaTree\n",
    "    JuliaDict() = new(JuliaTree())\n",
    "end\n"
   ]
  },
  {
   "cell_type": "code",
   "execution_count": 2,
   "metadata": {
    "collapsed": false
   },
   "outputs": [
    {
     "data": {
      "text/plain": [
       "insert! (generic function with 2 methods)"
      ]
     },
     "execution_count": 2,
     "metadata": {},
     "output_type": "execute_result"
    }
   ],
   "source": [
    "function insert!(key::String, value::Int, tree::JuliaTree)\n",
    "    if (length(tree.key) == 0)\n",
    "        tree.key=key\n",
    "        push!(tree.values,value)\n",
    "    elseif (key==tree.key)\n",
    "        push!(tree.values,value)\n",
    "    elseif (key<tree.key)\n",
    "        tree.left = insert!(key,value,tree.left)\n",
    "    elseif (key>tree.key)\n",
    "        tree.right = insert!(key,value,tree.right)  \n",
    "    end\n",
    "end\n",
    "function insert!(key::String, value::Int, tree::Any)\n",
    "    new_tree = JuliaTree()\n",
    "    if (!isa(tree,JuliaTree))\n",
    "        new_tree = JuliaTree()\n",
    "        new_tree.key = key\n",
    "        push!(new_tree.values,value)\n",
    "    end\n",
    "    new_tree\n",
    "end"
   ]
  },
  {
   "cell_type": "code",
   "execution_count": 3,
   "metadata": {
    "collapsed": false
   },
   "outputs": [
    {
     "data": {
      "text/plain": [
       "lookup (generic function with 2 methods)"
      ]
     },
     "execution_count": 3,
     "metadata": {},
     "output_type": "execute_result"
    }
   ],
   "source": [
    "function lookup(key::String, tree::JuliaTree)\n",
    "    value = []\n",
    "    if (key==tree.key)\n",
    "        value = tree.values\n",
    "    elseif (key<tree.key)\n",
    "        value = lookup(key,tree.left)\n",
    "    else\n",
    "        value = lookup(key,tree.right)\n",
    "    end\n",
    "    return value\n",
    "end\n",
    "\n",
    "function lookup(key::String, tree::Any)\n",
    "    if (!isa(tree,JuliaTree))\n",
    "        return []\n",
    "    else throw(MethodError)\n",
    "    end\n",
    "end\n"
   ]
  },
  {
   "cell_type": "code",
   "execution_count": 4,
   "metadata": {
    "collapsed": false
   },
   "outputs": [
    {
     "data": {
      "text/plain": [
       "get (generic function with 21 methods)"
      ]
     },
     "execution_count": 4,
     "metadata": {},
     "output_type": "execute_result"
    }
   ],
   "source": [
    "import Base.get\n",
    "function put!(key::String, value::Int, dict::JuliaDict)\n",
    "    insert!(key,value,dict.tree)\n",
    "end\n",
    "function get(key::String, dict::JuliaDict)\n",
    "    lookup(key,dict.tree)\n",
    "end"
   ]
  },
  {
   "cell_type": "code",
   "execution_count": 5,
   "metadata": {
    "collapsed": false
   },
   "outputs": [
    {
     "data": {
      "text/plain": [
       "domain (generic function with 1 method)"
      ]
     },
     "execution_count": 5,
     "metadata": {},
     "output_type": "execute_result"
    }
   ],
   "source": [
    "function get_keys(tree::JuliaTree)\n",
    "    keys = []\n",
    "    if (isa(tree.left,JuliaTree))\n",
    "        left_keys = get_keys(tree.left)\n",
    "        append!(keys,left_keys)\n",
    "    end\n",
    "    if (isa(tree.right,JuliaTree))\n",
    "        right_keys = get_keys(tree.right)\n",
    "        append!(keys,right_keys)\n",
    "    end\n",
    "    if (length(tree.key) > 0)\n",
    "        push!(keys,(tree.key,length(tree.values)))\n",
    "    end\n",
    "    keys\n",
    "end\n",
    "function domain(dict::JuliaDict)\n",
    "    keys = get_keys(dict.tree)\n",
    "    sort(keys,by=x->x[2],rev=true)\n",
    "end"
   ]
  },
  {
   "cell_type": "code",
   "execution_count": 6,
   "metadata": {
    "collapsed": false
   },
   "outputs": [
    {
     "data": {
      "text/plain": [
       "2-element Array{Any,1}:\n",
       " (\"a\",2)\n",
       " (\"b\",1)"
      ]
     },
     "execution_count": 6,
     "metadata": {},
     "output_type": "execute_result"
    }
   ],
   "source": [
    "dict = JuliaDict()\n",
    "put!(\"a\",55,dict)\n",
    "put!(\"b\",1,dict)\n",
    "put!(\"a\",11,dict)\n",
    "get(\"a\",dict)\n",
    "get(\"b\",dict)\n",
    "domain(dict)"
   ]
  },
  {
   "cell_type": "code",
   "execution_count": null,
   "metadata": {
    "collapsed": true
   },
   "outputs": [],
   "source": []
  }
 ],
 "metadata": {
  "kernelspec": {
   "display_name": "Julia 0.5.2",
   "language": "julia",
   "name": "julia-0.5"
  },
  "language_info": {
   "file_extension": ".jl",
   "mimetype": "application/julia",
   "name": "julia",
   "version": "0.5.2"
  }
 },
 "nbformat": 4,
 "nbformat_minor": 2
}
